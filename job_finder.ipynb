{
  "nbformat": 4,
  "nbformat_minor": 0,
  "metadata": {
    "colab": {
      "provenance": [],
      "include_colab_link": true
    },
    "kernelspec": {
      "name": "python3",
      "display_name": "Python 3"
    },
    "language_info": {
      "name": "python"
    }
  },
  "cells": [
    {
      "cell_type": "markdown",
      "metadata": {
        "id": "view-in-github",
        "colab_type": "text"
      },
      "source": [
        "<a href=\"https://colab.research.google.com/github/asiftauhid/jobs_and_salaries/blob/main/job_finder.ipynb\" target=\"_parent\"><img src=\"https://colab.research.google.com/assets/colab-badge.svg\" alt=\"Open In Colab\"/></a>"
      ]
    },
    {
      "cell_type": "markdown",
      "source": [
        "#**Jobs and their Salaries**\n",
        "\n",
        "---\n",
        "\n",
        "\n",
        "\n",
        "\n",
        "This is a data feature where users can enter keywords related to their majors or industry of interest, and they'll be suggested 5 job titles in that sector. Then the users can choose one of the job titles and enter their location to see how much is the median salary of the job in that specific city and the link to the source."
      ],
      "metadata": {
        "id": "dnm5d1Oh2dTW"
      }
    },
    {
      "cell_type": "code",
      "execution_count": null,
      "metadata": {
        "id": "03iu-9m02JbK",
        "colab": {
          "base_uri": "https://localhost:8080/"
        },
        "outputId": "97922e08-5f84-482e-d345-2a948991c50a"
      },
      "outputs": [
        {
          "output_type": "stream",
          "name": "stdout",
          "text": [
            "API key found!\n",
            "API key found!\n"
          ]
        }
      ],
      "source": [
        "#setting up API keys\n",
        "from google.colab import userdata\n",
        "\n",
        "#retrieving api keys from the secret tab of google colab\n",
        "job_search_api = userdata.get('perplexity_api')\n",
        "rapid_salary_api = userdata.get('rapid_salary_api_key')\n",
        "\n",
        "#checking if the api keys were retrieved successfully\n",
        "if job_search_api:\n",
        "  print(\"API key found!\")\n",
        "else:\n",
        "  print(\"API key not found!\")\n",
        "\n",
        "if rapid_salary_api:\n",
        "  print(\"API key found!\")\n",
        "else:\n",
        "  print(\"API key not found!\")"
      ]
    },
    {
      "cell_type": "markdown",
      "source": [
        "## **Getting Job Title Recommendations from Keywords**\n",
        "\n",
        "\n",
        "---\n",
        "\n"
      ],
      "metadata": {
        "id": "H1IxAW6gBSZI"
      }
    },
    {
      "cell_type": "code",
      "source": [
        "\n",
        "import requests\n",
        "\n",
        "#declaring the function\n",
        "def get_related_jobs(input_text):\n",
        "\n",
        "    #geting the api url\n",
        "    url = \"https://api.perplexity.ai/chat/completions\"\n",
        "\n",
        "    #declaring headers authenticate api request\n",
        "    headers = {\n",
        "        \"Content-Type\": \"application/json\",\n",
        "        \"Authorization\": f\"Bearer {job_search_api}\"\n",
        "    }\n",
        "    #providing the api the keywords\n",
        "    payload = {\n",
        "        \"model\": \"llama-3.1-8b-instruct\",\n",
        "        \"messages\": [\n",
        "            {\n",
        "                \"role\": \"system\",\n",
        "                \"content\": \"Given a major or industry, just provide five related job titles. \"\n",
        "            },\n",
        "            {\n",
        "                \"role\": \"user\",\n",
        "                \"content\": f\"List 5 jobs related to {input_text}.\"\n",
        "            }\n",
        "        ],\n",
        "        \"max_tokens\": 150\n",
        "    }\n",
        "\n",
        "    response = requests.post(url, headers=headers, json=payload)\n",
        "\n",
        "    #returning the data if api worked\n",
        "    if response.status_code == 200:\n",
        "        result = response.json()\n",
        "        return result['choices'][0]['message']['content']\n",
        "    else:\n",
        "      print(\"Request failed with status code:\", response.status_code)\n"
      ],
      "metadata": {
        "id": "3Ocr809Zi3IF"
      },
      "execution_count": null,
      "outputs": []
    },
    {
      "cell_type": "markdown",
      "source": [
        "## **Getting Median Salary of the Job and the Source**\n",
        "\n",
        "\n",
        "---\n",
        "\n"
      ],
      "metadata": {
        "id": "4Ko5KBZC3I0x"
      }
    },
    {
      "cell_type": "code",
      "source": [
        "import requests\n",
        "\n",
        "#defining the function\n",
        "def get_job_postings(job_title, job_location):\n",
        "\t#getting the api urtl\n",
        "\turl = \"https://job-salary-data.p.rapidapi.com/job-salary\"\n",
        "\t#declaring the parameters entered by the users\n",
        "\tjob_title_input = job_title\n",
        "\tjob_location_input = job_location\n",
        "\n",
        "\tquerystring = {\"job_title\":job_title_input,\"location\":job_location_input}\n",
        "\n",
        "\t#declaring header file for authentication\n",
        "\theaders = {\n",
        "\t\t\"x-rapidapi-key\": rapid_salary_api_key,\n",
        "\t\t\"x-rapidapi-host\": \"job-salary-data.p.rapidapi.com\"\n",
        "\t}\n",
        "\n",
        "\tresponse = requests.get(url, headers=headers, params=querystring)\n",
        "\n",
        "\t#returning the results if there wasn't any error\n",
        "\tif response.status_code == 200:\n",
        "\t\t\tresult = response.json()\n",
        "\t\t\treturn (result['data'])\n",
        "\telse:\n",
        "\t\t\tprint(\"Request failed with status code:\", response.status_code)\n"
      ],
      "metadata": {
        "id": "lNyXy4-sMENl"
      },
      "execution_count": null,
      "outputs": []
    },
    {
      "cell_type": "markdown",
      "source": [
        "## **Taking Inputs, Calling Previous Functions, and Printing Results**\n",
        "\n",
        "\n",
        "---\n",
        "\n"
      ],
      "metadata": {
        "id": "Kuy2sh775QIP"
      }
    },
    {
      "cell_type": "code",
      "source": [
        "#\\putting everything together\n",
        "\n",
        "#taking input for the keywords and calling the first function to retrieve jot titles\n",
        "input_text = input(\"Enter a major or industry: \")\n",
        "related_jobs = get_related_jobs(input_text)\n",
        "print(related_jobs)\n",
        "print(\"\\n\")\n",
        "\n",
        "#taking input for preferred job title and location and calling the 2nd function to retrieve salary\n",
        "input_job_title = input(\"Enter a job title: \")\n",
        "input_location = input(\"Enter a location: \")\n",
        "job_postings = get_job_postings(input_job_title, input_location)\n",
        "print(f\"\\nTotal {len(job_postings)} jobs found in {job_postings[0]['location']} \\n\")\n",
        "for jobs in job_postings:\n",
        "\n",
        "  print(f\"Job Title: {jobs['job_title']}\")\n",
        "  print(f\"Median Salary: ${jobs['median_salary']}\")\n",
        "  print(f\"Publisher: {jobs['publisher_name']}\")\n",
        "  print(f\"URL: {jobs['publisher_link']}\")\n",
        "  print(\"\\n\")\n",
        "\n",
        "\n"
      ],
      "metadata": {
        "colab": {
          "base_uri": "https://localhost:8080/"
        },
        "id": "A6yLHpCvpuhW",
        "outputId": "de139b3c-ed7f-4799-f536-7d355ae1fcdf"
      },
      "execution_count": null,
      "outputs": [
        {
          "output_type": "stream",
          "name": "stdout",
          "text": [
            "Enter a major or industry: Data\n",
            "Here are 5 jobs related to Data:\n",
            "\n",
            "1. Data Analyst\n",
            "2. Data Scientist\n",
            "3. Business Intelligence Developer\n",
            "4. Database Administrator\n",
            "5. Data Engineer\n",
            "\n",
            "\n",
            "Enter a job title: Data Scientist\n",
            "Enter a location: california\n",
            "\n",
            "Total 3 jobs found in California \n",
            "\n",
            "Job Title: Entry Level Data Scientist\n",
            "Median Salary: $147034\n",
            "Publisher: Ziprecruiter\n",
            "URL: https://www.ziprecruiter.com/Salaries/Entry-Level-Data-Scientist-Salary--in-California\n",
            "\n",
            "\n",
            "Job Title: Data Scientist\n",
            "Median Salary: $130000\n",
            "Publisher: Builtinla\n",
            "URL: https://www.builtinla.com/salaries/data-analytics/data-scientist/los-angeles\n",
            "\n",
            "\n",
            "Job Title: Data Scientist\n",
            "Median Salary: $142204.39\n",
            "Publisher: Indeed\n",
            "URL: https://www.indeed.com/cmp/Glassdoor/salaries/Data-Scientist/California\n",
            "\n",
            "\n"
          ]
        }
      ]
    },
    {
      "cell_type": "code",
      "source": [],
      "metadata": {
        "id": "pBQqX76UtkV2"
      },
      "execution_count": null,
      "outputs": []
    }
  ]
}